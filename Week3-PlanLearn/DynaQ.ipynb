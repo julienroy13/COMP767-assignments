{
 "cells": [
  {
   "cell_type": "code",
   "execution_count": 26,
   "metadata": {
    "collapsed": true
   },
   "outputs": [],
   "source": [
    "from pycolab import ascii_art\n",
    "from pycolab.prefab_parts import sprites as prefab_sprites\n",
    "from pycolab.rendering import ObservationToFeatureArray\n",
    "\n",
    "import numpy as np\n",
    "import pycolab\n",
    "import matplotlib.pyplot as plt\n",
    "%matplotlib inline"
   ]
  },
  {
   "cell_type": "markdown",
   "metadata": {},
   "source": [
    "# Introduction"
   ]
  },
  {
   "cell_type": "markdown",
   "metadata": {},
   "source": [
    "# Implementations"
   ]
  },
  {
   "cell_type": "markdown",
   "metadata": {},
   "source": [
    "### Environments"
   ]
  },
  {
   "cell_type": "markdown",
   "metadata": {},
   "source": [
    "#### 1. Blocking Maze"
   ]
  },
  {
   "cell_type": "code",
   "execution_count": 27,
   "metadata": {},
   "outputs": [],
   "source": [
    "GAME_ART = ['###########',\n",
    "            '#         #',\n",
    "            '#         #',\n",
    "            '#         #',\n",
    "            '######### #',\n",
    "            '#         #',\n",
    "            '#   P     #',\n",
    "            '###########']\n",
    "\n",
    "\n",
    "def make_game():\n",
    "    \"\"\"Builds and returns a four-rooms game.\"\"\"\n",
    "    return ascii_art.ascii_art_to_game(GAME_ART, what_lies_beneath=' ', sprites={'P': PlayerSprite})\n",
    "\n",
    "\n",
    "class PlayerSprite(prefab_sprites.MazeWalker):\n",
    "    \"\"\"A `Sprite` for our player.\n",
    "    This `Sprite` ties actions to going in the four cardinal directions. If we\n",
    "    reach a magical location, the agent receives a reward of 1 and the epsiode terminates.\n",
    "    \"\"\"\n",
    "\n",
    "    def __init__(self, corner, position, character):\n",
    "        \"\"\"Inform superclass that the '#' delimits the walls.\"\"\"\n",
    "        super(PlayerSprite, self).__init__(corner, position, character, impassable='#')\n",
    "    \n",
    "\n",
    "\n",
    "    def update(self, actions, board, layers, backdrop, things, the_plot):\n",
    "        del layers, backdrop, things   # Unused in this application.\n",
    "\n",
    "        # Apply motion commands.\n",
    "        if actions == 0:    # walk upward?\n",
    "            self._north(board, the_plot)\n",
    "            print('Walks up')\n",
    "        elif actions == 1:  # walk downward?\n",
    "            self._south(board, the_plot)\n",
    "            print('Walks down')\n",
    "        elif actions == 2:  # walk leftward?\n",
    "            self._west(board, the_plot)\n",
    "            print('Walks left')\n",
    "        elif actions == 3:  # walk rightward?\n",
    "            self._east(board, the_plot)\n",
    "            print('Walks right')\n",
    "        else:\n",
    "            print('Doesnt move')\n",
    "\n",
    "        # See if we've found the mystery spot.\n",
    "        magical_location = (1, 9)\n",
    "        if self.position == magical_location:\n",
    "            the_plot.add_reward(1.0)\n",
    "            the_plot.terminate_episode()"
   ]
  },
  {
   "cell_type": "code",
   "execution_count": 43,
   "metadata": {
    "collapsed": true
   },
   "outputs": [],
   "source": [
    "def show_board(obs):\n",
    "    \n",
    "    board = 8 * np.array(obs.layers['P'], dtype=np.float)\n",
    "    board += 4 * np.array(obs.layers['#'], dtype=np.float)\n",
    "\n",
    "    plt.figure()\n",
    "    plt.imshow(board)\n",
    "    plt.axis('off')\n",
    "    plt.show()"
   ]
  },
  {
   "cell_type": "code",
   "execution_count": 46,
   "metadata": {},
   "outputs": [
    {
     "name": "stdout",
     "output_type": "stream",
     "text": [
      "Doesnt move\n",
      "Walks up\n"
     ]
    },
    {
     "data": {
      "image/png": "[encoded data removed]",
      "text/plain": [
       "<matplotlib.figure.Figure at 0x1e102c34c88>"
      ]
     },
     "metadata": {},
     "output_type": "display_data"
    },
    {
     "name": "stdout",
     "output_type": "stream",
     "text": [
      "Walks left\n"
     ]
    },
    {
     "data": {
      "image/png": "[encoded data removed]",
      "text/plain": [
       "<matplotlib.figure.Figure at 0x1e10528d208>"
      ]
     },
     "metadata": {},
     "output_type": "display_data"
    },
    {
     "name": "stdout",
     "output_type": "stream",
     "text": [
      "Walks right\n",
      "Walks right\n",
      "Walks right\n",
      "Walks right\n"
     ]
    },
    {
     "data": {
      "image/png": "[encoded data removed]",
      "text/plain": [
       "<matplotlib.figure.Figure at 0x1e10547e048>"
      ]
     },
     "metadata": {},
     "output_type": "display_data"
    },
    {
     "name": "stdout",
     "output_type": "stream",
     "text": [
      "Walks right\n"
     ]
    },
    {
     "data": {
      "image/png": "[encoded data removed]",
      "text/plain": [
       "<matplotlib.figure.Figure at 0x1e105103ef0>"
      ]
     },
     "metadata": {},
     "output_type": "display_data"
    }
   ],
   "source": [
    "# Instanciates our game object\n",
    "game = make_game()\n",
    "\n",
    "# Finalize the engine. Set-up and compute the first observation of the game\n",
    "obs, reward, gamma = game.its_showtime();\n",
    "\n",
    "# Take several actions\n",
    "obs, reward, gamma = game.play(0)\n",
    "show_board(obs)\n",
    "obs, reward, gamma = game.play(2)\n",
    "show_board(obs)\n",
    "obs, reward, gamma = game.play(3)\n",
    "obs, reward, gamma = game.play(3)\n",
    "obs, reward, gamma = game.play(3)\n",
    "obs, reward, gamma = game.play(3)\n",
    "show_board(obs)\n",
    "obs, reward, gamma = game.play(3)\n",
    "show_board(obs)"
   ]
  },
  {
   "cell_type": "markdown",
   "metadata": {},
   "source": [
    "#### 2. Shortcut Maze"
   ]
  },
  {
   "cell_type": "markdown",
   "metadata": {},
   "source": [
    "### Dyna-Q Algorithm"
   ]
  },
  {
   "cell_type": "code",
   "execution_count": null,
   "metadata": {
    "collapsed": true
   },
   "outputs": [],
   "source": [
    "def dynaQ():\n",
    "    \n",
    "    \n",
    "    \n",
    "    return"
   ]
  },
  {
   "cell_type": "markdown",
   "metadata": {},
   "source": [
    "# Experiments"
   ]
  },
  {
   "cell_type": "markdown",
   "metadata": {},
   "source": [
    "# How dows Dyna-Q relate to Experience Replay ?"
   ]
  },
  {
   "cell_type": "markdown",
   "metadata": {},
   "source": [
    "# Conclusion"
   ]
  }
 ],
 "metadata": {
  "kernelspec": {
   "display_name": "Python 3",
   "language": "python",
   "name": "python3"
  },
  "language_info": {
   "codemirror_mode": {
    "name": "ipython",
    "version": 3
   },
   "file_extension": ".py",
   "mimetype": "text/x-python",
   "name": "python",
   "nbconvert_exporter": "python",
   "pygments_lexer": "ipython3",
   "version": "3.6.1"
  }
 },
 "nbformat": 4,
 "nbformat_minor": 2
}
