{
 "cells": [
  {
   "cell_type": "code",
   "execution_count": 1,
   "metadata": {},
   "outputs": [],
   "source": [
    "from pycolab import ascii_art\n",
    "from pycolab.prefab_parts import sprites as prefab_sprites\n",
    "from pycolab.rendering import ObservationToFeatureArray\n",
    "\n",
    "import numpy as np\n",
    "import pycolab\n",
    "\n",
    "from tqdm import tqdm\n",
    "from collections import namedtuple\n",
    "import matplotlib.pyplot as plt\n",
    "%matplotlib inline"
   ]
  },
  {
   "cell_type": "markdown",
   "metadata": {},
   "source": [
    "# Introduction"
   ]
  },
  {
   "cell_type": "markdown",
   "metadata": {},
   "source": [
    "# Implementations"
   ]
  },
  {
   "cell_type": "markdown",
   "metadata": {},
   "source": [
    "### Environments"
   ]
  },
  {
   "cell_type": "markdown",
   "metadata": {},
   "source": [
    "#### 1. Blocking Maze"
   ]
  },
  {
   "cell_type": "code",
   "execution_count": 2,
   "metadata": {},
   "outputs": [],
   "source": [
    "BLOCKING_MAZE = [\n",
    "    ['###########',\n",
    "     '#         #',\n",
    "     '#         #',\n",
    "     '#         #',\n",
    "     '######### #',\n",
    "     '#         #',\n",
    "     '#         #',\n",
    "     '###########'],\n",
    "    ['###########',\n",
    "     '#         #',\n",
    "     '#         #',\n",
    "     '#         #',\n",
    "     '# #########',\n",
    "     '#         #',\n",
    "     '#         #',\n",
    "     '###########']\n",
    "]"
   ]
  },
  {
   "cell_type": "markdown",
   "metadata": {},
   "source": [
    "#### 2. Shortcut Maze"
   ]
  },
  {
   "cell_type": "code",
   "execution_count": 3,
   "metadata": {},
   "outputs": [],
   "source": [
    "SHORTCUT_MAZE = [\n",
    "    ['###########',\n",
    "     '#         #',\n",
    "     '#         #',\n",
    "     '#         #',\n",
    "     '# #########',\n",
    "     '#         #',\n",
    "     '#         #',\n",
    "     '###########'],\n",
    "    ['###########',\n",
    "     '#         #',\n",
    "     '#         #',\n",
    "     '#         #',\n",
    "     '# ####### #',\n",
    "     '#         #',\n",
    "     '#         #',\n",
    "     '###########']\n",
    "]"
   ]
  },
  {
   "cell_type": "markdown",
   "metadata": {},
   "source": [
    "#### 3. Environment Mechanics"
   ]
  },
  {
   "cell_type": "code",
   "execution_count": 4,
   "metadata": {},
   "outputs": [],
   "source": [
    "def make_game(art):\n",
    "    \"\"\"Builds and returns game.\"\"\"\n",
    "    return ascii_art.ascii_art_to_game(art, what_lies_beneath=' ', sprites={'P': PlayerSprite})\n",
    "\n",
    "\n",
    "def show_board(obs):\n",
    "    \"\"\"Displays an image of the Board.\"\"\"\n",
    "    board = 80 * np.array(obs.layers['P'], dtype=np.float)\n",
    "    board += 15 * np.array(obs.layers['#'], dtype=np.float)\n",
    "    board += 50 * np.array(obs.layers['G'], dtype=np.float)\n",
    "\n",
    "    plt.figure(figsize=(4, 2))\n",
    "    plt.imshow(board)\n",
    "    plt.axis('off')\n",
    "    plt.show()\n",
    "\n",
    "\n",
    "class PlayerSprite(prefab_sprites.MazeWalker):\n",
    "    \"\"\"A `Sprite` for our player.\n",
    "    This `Sprite` ties actions to going in the four cardinal directions. If we\n",
    "    reach a magical location, the agent receives a reward of 1 and the epsiode terminates.\n",
    "    \"\"\"\n",
    "\n",
    "    def __init__(self, corner, position, character):\n",
    "        \"\"\"Inform superclass that the '#' delimits the walls.\"\"\"\n",
    "        super(PlayerSprite, self).__init__(corner, position, character, impassable='#')\n",
    "    \n",
    "\n",
    "\n",
    "    def update(self, actions, board, layers, backdrop, things, the_plot):\n",
    "        del backdrop, things   # Unused in this application.\n",
    "\n",
    "        # Apply motion commands.\n",
    "        if actions == 0:    # walk upward?\n",
    "            self._north(board, the_plot)\n",
    "            #print('Walks up')\n",
    "        elif actions == 1:  # walk downward?\n",
    "            self._south(board, the_plot)\n",
    "            #print('Walks down')\n",
    "        elif actions == 2:  # walk leftward?\n",
    "            self._west(board, the_plot)\n",
    "            #print('Walks left')\n",
    "        elif actions == 3:  # walk rightward?\n",
    "            self._east(board, the_plot)\n",
    "            #print('Walks right')\n",
    "\n",
    "        # See if we've found the mystery spot.\n",
    "        if layers[\"G\"][self.position]:\n",
    "            the_plot.add_reward(1.0)\n",
    "            the_plot.terminate_episode()\n",
    "        else:\n",
    "            the_plot.add_reward(0.0)\n",
    "            \n"
   ]
  },
  {
   "cell_type": "code",
   "execution_count": 5,
   "metadata": {},
   "outputs": [],
   "source": [
    "class Maze(object):\n",
    "    def __init__(self, arts, start, goal):\n",
    "        self.arts = arts\n",
    "        self.index = 0\n",
    "        \n",
    "        self.START = start\n",
    "        self.GOAL  = goal\n",
    "    \n",
    "    def _set_art(self, art, marker, position):\n",
    "        y, x = position\n",
    "        tmp = list(art[y])\n",
    "        tmp[x] = marker\n",
    "        art[y] = \"\".join(tmp)\n",
    "    \n",
    "    def build(self):\n",
    "        art = self.arts[self.index]\n",
    "        self._set_art(art, \"P\", self.START)  # add the player's position\n",
    "        #self._set_art(art, \"S\", self.START)  # add the start's position\n",
    "        self._set_art(art, \"G\", self.GOAL)  # add the goal's position\n",
    "        self.game = make_game(art)\n",
    "        return self\n",
    "    \n",
    "    def select(self, i):\n",
    "        assert i < len(self.arts), \"Index out of bounds. Should be between {} and {}\".format(0, len(self.arts)-1)\n",
    "        self.index = i\n",
    "        return self\n",
    "    \n",
    "    def its_showtime(self):\n",
    "        obs, reward, gamma = self.game.its_showtime()\n",
    "        return obs, reward, gamma\n",
    "    \n",
    "    def play(self, action):\n",
    "        obs, reward, gamma = self.game.play(action)\n",
    "        return obs, reward, gamma    \n",
    "    \n",
    "    @property\n",
    "    def rows(self):\n",
    "        return self.game.rows\n",
    "    \n",
    "    @property\n",
    "    def cols(self):\n",
    "        return self.game.cols\n",
    "    \n",
    "    @property\n",
    "    def game_over(self):\n",
    "        return self.game.game_over"
   ]
  },
  {
   "cell_type": "markdown",
   "metadata": {},
   "source": [
    "### Dyna-Q Algorithm"
   ]
  },
  {
   "cell_type": "code",
   "execution_count": 6,
   "metadata": {},
   "outputs": [],
   "source": [
    "class SimpleModel(object):\n",
    "    def __init__(self):\n",
    "        self._mapping = dict()\n",
    "    \n",
    "    def feed(self, state, action, next_state, reward):\n",
    "        if tuple(state) not in self._mapping.keys():\n",
    "            self._mapping[tuple(state)] = dict()\n",
    "        self._mapping[tuple(state)][action] = (reward, list(next_state))\n",
    "    \n",
    "    def sample(self):\n",
    "        #\n",
    "        state_index = np.random.choice(range(0, len(self._mapping.keys())))\n",
    "        state = list(self._mapping)[state_index]\n",
    "        #\n",
    "        action_index = np.random.choice(range(0, len(self._mapping[state].keys())))\n",
    "        action = list(self._mapping[state])[action_index]\n",
    "        reward, next_state = self._mapping[state][action]\n",
    "        return list(state), action, reward, list(next_state)"
   ]
  },
  {
   "cell_type": "code",
   "execution_count": 19,
   "metadata": {},
   "outputs": [],
   "source": [
    "class DynaQ(object):\n",
    "    def __init__(self, gamma=0.95, epsilon=0.1, alpha=0.1, n_planning_steps=5):\n",
    "        # discount factor\n",
    "        self.gamma = gamma\n",
    "\n",
    "        # probability for exploration\n",
    "        self.epsilon = epsilon\n",
    "\n",
    "        # step size\n",
    "        self.alpha = alpha\n",
    "\n",
    "        # n-step planning\n",
    "        self.n_planning_steps = n_planning_steps\n",
    "        \n",
    "    # action selection with epsilon-greedy scheme\n",
    "    def _select_action(self, state, state_action_values):\n",
    "        # flip a coin with probability epsilon to have 1 ...\n",
    "        if np.random.binomial(1, self.epsilon) == 1:\n",
    "            # if it's the case randomly pick an action amongst ALL ACTIONS.\n",
    "            return np.random.randint(4)\n",
    "        else:\n",
    "            # otherwise, pick an action (at random) amongst ACTIONS OF MAXIMUM VALUE (if many)\n",
    "            values = state_action_values[state[0], state[1], :]\n",
    "            return np.random.choice(np.where(values == np.max(values))[0])\n",
    "\n",
    "    # tabular dyna-Q algorithm\n",
    "    def apply(self, state_action_values, model, game, n_steps, display=False):\n",
    "        #\n",
    "        obs, reward, gamma = game.its_showtime()\n",
    "        position = np.array(obs.layers['P'])\n",
    "        current_state = np.unravel_index(position.argmax(), position.shape)\n",
    "        \n",
    "        if display:\n",
    "            show_board(obs)\n",
    "\n",
    "        steps = 0\n",
    "        while not(game.game_over):\n",
    "            #\n",
    "            steps += 1\n",
    "\n",
    "            # choose an action to execute\n",
    "            action = self._select_action(current_state, state_action_values)\n",
    "\n",
    "            # take action\n",
    "            obs, reward, gamma = game.play(action)\n",
    "            position = np.array(obs.layers['P'])\n",
    "            next_state = np.unravel_index(position.argmax(), position.shape)\n",
    "            \n",
    "            if display:\n",
    "                show_board(obs)\n",
    "\n",
    "            # Q-Learning update\n",
    "            state_action_values[current_state[0], current_state[1], action] += \\\n",
    "                self.alpha * (reward + self.gamma * np.max(state_action_values[next_state[0], next_state[1], :]) -\n",
    "                state_action_values[current_state[0], current_state[1], action])\n",
    "\n",
    "            # feed the model with experience\n",
    "            model.feed(current_state, action, next_state, reward)\n",
    "\n",
    "            # sample experience from the model\n",
    "            for t in range(0, self.n_planning_steps):\n",
    "                sample_state, sample_action, sample_reward, sample_next_state = model.sample()\n",
    "                state_action_values[sample_state[0], sample_state[1], sample_action] += \\\n",
    "                    self.alpha * (sample_reward + self.gamma * np.max(state_action_values[sample_next_state[0], sample_next_state[1], :]) -\n",
    "                    state_action_values[sample_state[0], sample_state[1], sample_action])\n",
    "\n",
    "            current_state = next_state\n",
    "            \n",
    "            if steps > n_steps:\n",
    "                break\n",
    "        return steps"
   ]
  },
  {
   "cell_type": "code",
   "execution_count": 8,
   "metadata": {},
   "outputs": [],
   "source": [
    "def changing_maze_experiment(maze_arts, params):\n",
    "\n",
    "    # set up max steps\n",
    "    n_steps = params.n_steps\n",
    "\n",
    "    # track the cumulative rewards\n",
    "    rewards = np.zeros((n_steps,))\n",
    "\n",
    "    for run in tqdm(range(0, params.n_runs)):\n",
    "        \n",
    "        # instantiate dyna-Q algorithm\n",
    "        agent = DynaQ(alpha=0.7)\n",
    "        \n",
    "        # set up model\n",
    "        model = SimpleModel()\n",
    "\n",
    "        # track cumulative reward in current run\n",
    "        rewards_ = np.zeros((n_steps,))\n",
    "        \n",
    "        # instantiate game\n",
    "        maze = Maze(maze_arts, start=(6, 4), goal=(1, 9))\n",
    "        game = maze.select(0).build()\n",
    "        index = game.index\n",
    "\n",
    "        # initialize state action values\n",
    "        state_action_values = np.zeros((game.rows, game.cols, 4))\n",
    "\n",
    "        steps = 0\n",
    "        last_steps = steps\n",
    "        while steps < n_steps:\n",
    "            # play for an episode\n",
    "            steps += agent.apply(state_action_values, model, game, n_steps, False)\n",
    "\n",
    "            # update cumulative rewards\n",
    "            steps_ = min(steps, n_steps - 1)\n",
    "            rewards_[last_steps : steps_] = rewards_[last_steps]\n",
    "            rewards_[steps_] = rewards_[last_steps] + 1\n",
    "            last_steps = steps\n",
    "            \n",
    "            \n",
    "            if index < len(params.change_points) and steps > params.change_points[index]:\n",
    "                # change maze\n",
    "                game = maze.select(1).build()\n",
    "                index = game.index\n",
    "            else:\n",
    "                # keep same maze (rebuild)                \n",
    "                game = maze.build()\n",
    "                index = game.index\n",
    "        rewards += rewards_\n",
    "\n",
    "    # averaging over runs\n",
    "    rewards /= params.n_runs\n",
    "\n",
    "    return rewards"
   ]
  },
  {
   "cell_type": "code",
   "execution_count": 31,
   "metadata": {},
   "outputs": [
    {
     "name": "stderr",
     "output_type": "stream",
     "text": [
      "100%|██████████| 20/20 [00:17<00:00,  1.13it/s]\n"
     ]
    },
    {
     "data": {
      "image/png": "[encoded data removed]",
      "text/plain": [
       "<matplotlib.figure.Figure at 0x7f3b3874a898>"
      ]
     },
     "metadata": {},
     "output_type": "display_data"
    }
   ],
   "source": [
    "# parameters for experiments\n",
    "Params = namedtuple(\"Params\", [\"n_steps\", \"n_runs\", \"change_points\"])\n",
    "params = Params(n_steps=3000, n_runs=20, change_points=[1000, np.inf])\n",
    "\n",
    "# run the experiments on both \"blocking maze\" and \"shortcut maze\"\n",
    "rewards_bm = changing_maze_experiment(BLOCKING_MAZE, params)\n",
    "#rewards_sm = changing_maze_experiment(SHORTCUT_MAZE, params)\n",
    "\n",
    "# plot results\n",
    "plt.figure(figsize=(10, 8))\n",
    "plt.plot(range(0, params.n_steps), rewards_bm, label=\"Blocking Maze\")\n",
    "#plt.plot(range(0, params.n_steps), rewards_sm, label=\"Changing Maze\")\n",
    "plt.axvline(params.change_points[0], color=\"magenta\", linestyle=\"--\", label=\"Change point\")\n",
    "plt.title('Changing Mazes experiments with Dyna-Q')\n",
    "plt.xlabel('Time steps')\n",
    "plt.ylabel('Cumulative reward')\n",
    "plt.legend(loc=\"best\")\n",
    "plt.grid(True, color=\"lightgrey\")\n",
    "plt.show()"
   ]
  },
  {
   "cell_type": "markdown",
   "metadata": {},
   "source": [
    "# Experiments"
   ]
  },
  {
   "cell_type": "markdown",
   "metadata": {},
   "source": [
    "# How dows Dyna-Q relate to Experience Replay ?"
   ]
  },
  {
   "cell_type": "code",
   "execution_count": null,
   "metadata": {},
   "outputs": [],
   "source": []
  },
  {
   "cell_type": "markdown",
   "metadata": {},
   "source": [
    "# Conclusion"
   ]
  },
  {
   "cell_type": "code",
   "execution_count": null,
   "metadata": {},
   "outputs": [],
   "source": []
  }
 ],
 "metadata": {
  "kernelspec": {
   "display_name": "Python 3",
   "language": "python",
   "name": "python3"
  },
  "language_info": {
   "codemirror_mode": {
    "name": "ipython",
    "version": 3
   },
   "file_extension": ".py",
   "mimetype": "text/x-python",
   "name": "python",
   "nbconvert_exporter": "python",
   "pygments_lexer": "ipython3",
   "version": "3.6.4"
  }
 },
 "nbformat": 4,
 "nbformat_minor": 2
}
