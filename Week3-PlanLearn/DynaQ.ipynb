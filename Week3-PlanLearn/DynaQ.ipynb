{
 "cells": [
  {
   "cell_type": "code",
   "execution_count": 1,
   "metadata": {
    "collapsed": true
   },
   "outputs": [],
   "source": [
    "from pycolab import ascii_art\n",
    "from pycolab.prefab_parts import sprites as prefab_sprites\n",
    "\n",
    "import numpy as np\n",
    "import pycolab\n",
    "import matplotlib.pyplot as plt\n",
    "%matplotlib inline"
   ]
  },
  {
   "cell_type": "markdown",
   "metadata": {},
   "source": [
    "# Introduction"
   ]
  },
  {
   "cell_type": "markdown",
   "metadata": {},
   "source": [
    "# Implementations"
   ]
  },
  {
   "cell_type": "markdown",
   "metadata": {},
   "source": [
    "### Environments"
   ]
  },
  {
   "cell_type": "markdown",
   "metadata": {},
   "source": [
    "#### 1. Blocking Maze"
   ]
  },
  {
   "cell_type": "code",
   "execution_count": 2,
   "metadata": {},
   "outputs": [],
   "source": [
    "GAME_ART = ['###########',\n",
    "            '#         #',\n",
    "            '#         #',\n",
    "            '#         #',\n",
    "            '######### #',\n",
    "            '#         #',\n",
    "            '#   P     #',\n",
    "            '###########']\n",
    "\n",
    "\n",
    "def make_game():\n",
    "    \"\"\"Builds and returns a four-rooms game.\"\"\"\n",
    "    return ascii_art.ascii_art_to_game(GAME_ART, what_lies_beneath=' ',sprites={'P': PlayerSprite})\n",
    "\n",
    "\n",
    "class PlayerSprite(prefab_sprites.MazeWalker):\n",
    "    \"\"\"A `Sprite` for our player.\n",
    "    This `Sprite` ties actions to going in the four cardinal directions. If we\n",
    "    reach a magical location (in this example, (4, 3)), the agent receives a\n",
    "    reward of 1 and the epsiode terminates.\n",
    "    \"\"\"\n",
    "\n",
    "    def __init__(self, corner, position, character):\n",
    "        \"\"\"Inform superclass that we can't walk through walls.\"\"\"\n",
    "        super(PlayerSprite, self).__init__(\n",
    "            corner, position, character, impassable='#')\n",
    "    \n",
    "\n",
    "\n",
    "    def update(self, actions, board, layers, backdrop, things, the_plot):\n",
    "        del layers, backdrop, things   # Unused.\n",
    "\n",
    "        # Apply motion commands.\n",
    "        if actions == 0:    # walk upward?\n",
    "            self._north(board, the_plot)\n",
    "        elif actions == 1:  # walk downward?\n",
    "            self._south(board, the_plot)\n",
    "        elif actions == 2:  # walk leftward?\n",
    "            self._west(board, the_plot)\n",
    "        elif actions == 3:  # walk rightward?\n",
    "            self._east(board, the_plot)\n",
    "\n",
    "        # See if we've found the mystery spot.\n",
    "        magical_location = (1, 9)\n",
    "        if self.position == magical_location:\n",
    "            the_plot.add_reward(1.0)\n",
    "            the_plot.terminate_episode()"
   ]
  },
  {
   "cell_type": "code",
   "execution_count": 3,
   "metadata": {},
   "outputs": [
    {
     "name": "stdout",
     "output_type": "stream",
     "text": [
      "[[ 0.  0.  0.  0.  0.  0.  0.  0.  0.  0.  0.]\n",
      " [ 0.  0.  0.  0.  0.  0.  0.  0.  0.  0.  0.]\n",
      " [ 0.  0.  0.  0.  0.  0.  0.  0.  0.  0.  0.]\n",
      " [ 0.  0.  0.  0.  0.  0.  0.  0.  0.  0.  0.]\n",
      " [ 0.  0.  0.  0.  0.  0.  0.  0.  0.  0.  0.]\n",
      " [ 0.  0.  0.  0.  0.  0.  0.  0.  0.  0.  0.]\n",
      " [ 0.  0.  0.  0.  1.  0.  0.  0.  0.  0.  0.]\n",
      " [ 0.  0.  0.  0.  0.  0.  0.  0.  0.  0.  0.]]\n"
     ]
    }
   ],
   "source": [
    "game = make_game()\n",
    "obs, reward, gamma = game.its_showtime();\n",
    "obs, reward, gamma = game.play(5000)\n",
    "state = np.array(obs.layers['P'], dtype=np.float)\n",
    "print(state)"
   ]
  },
  {
   "cell_type": "markdown",
   "metadata": {},
   "source": [
    "#### 2. Shortcut Maze"
   ]
  },
  {
   "cell_type": "markdown",
   "metadata": {},
   "source": [
    "### Dyna-Q Algorithm"
   ]
  },
  {
   "cell_type": "code",
   "execution_count": null,
   "metadata": {
    "collapsed": true
   },
   "outputs": [],
   "source": [
    "def dynaQ():\n",
    "    \n",
    "    \n",
    "    \n",
    "    return"
   ]
  },
  {
   "cell_type": "markdown",
   "metadata": {},
   "source": [
    "# Experiments"
   ]
  },
  {
   "cell_type": "markdown",
   "metadata": {},
   "source": [
    "# How dows Dyna-Q relate to Experience Replay ?"
   ]
  },
  {
   "cell_type": "markdown",
   "metadata": {},
   "source": [
    "# Conclusion"
   ]
  }
 ],
 "metadata": {
  "kernelspec": {
   "display_name": "Python 3",
   "language": "python",
   "name": "python3"
  },
  "language_info": {
   "codemirror_mode": {
    "name": "ipython",
    "version": 3
   },
   "file_extension": ".py",
   "mimetype": "text/x-python",
   "name": "python",
   "nbconvert_exporter": "python",
   "pygments_lexer": "ipython3",
   "version": "3.6.1"
  }
 },
 "nbformat": 4,
 "nbformat_minor": 2
}
