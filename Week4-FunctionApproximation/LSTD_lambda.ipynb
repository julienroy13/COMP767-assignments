{
 "cells": [
  {
   "cell_type": "markdown",
   "metadata": {},
   "source": [
    "# Function Approximation in RL - LSTD(lambda)\n",
    "\n",
    "**Due date : 20/03/2018**\n",
    "\n",
    "**By : Julien Roy and David Kanaa**"
   ]
  },
  {
   "cell_type": "code",
   "execution_count": 1,
   "metadata": {
    "collapsed": true
   },
   "outputs": [],
   "source": [
    "import gym\n",
    "import time\n",
    "\n",
    "import numpy as np\n",
    "import pycolab\n",
    "\n",
    "from pycolab import ascii_art\n",
    "from pycolab.prefab_parts import sprites as prefab_sprites\n",
    "\n",
    "from tqdm import tqdm\n",
    "import matplotlib.pyplot as plt\n",
    "%matplotlib inline"
   ]
  },
  {
   "cell_type": "markdown",
   "metadata": {},
   "source": [
    "# Introduction"
   ]
  },
  {
   "cell_type": "markdown",
   "metadata": {},
   "source": []
  },
  {
   "cell_type": "markdown",
   "metadata": {},
   "source": [
    "# Implementations"
   ]
  },
  {
   "cell_type": "markdown",
   "metadata": {},
   "source": []
  },
  {
   "cell_type": "code",
   "execution_count": 2,
   "metadata": {
    "collapsed": true
   },
   "outputs": [],
   "source": [
    "def show_board(obs, board_memory=None):\n",
    "    \n",
    "    board = 10 * np.array(obs.layers['P'], dtype=np.float)\n",
    "    new_memory = 2.5 * np.array(obs.layers['P'], dtype=np.float)\n",
    "    \n",
    "    if board_memory is not None:\n",
    "        board_memory += new_memory\n",
    "        board += board_memory\n",
    "    else:\n",
    "        board_memory = new_memory\n",
    "    \n",
    "    board += 8 * np.array(obs.layers['G'], dtype=np.float)\n",
    "\n",
    "    plt.figure()\n",
    "    plt.imshow(board)\n",
    "    plt.axis('off')\n",
    "    plt.show()\n",
    "    \n",
    "    return board_memory"
   ]
  },
  {
   "cell_type": "markdown",
   "metadata": {},
   "source": [
    "### Environment - Boyan's Chain"
   ]
  },
  {
   "cell_type": "code",
   "execution_count": 11,
   "metadata": {
    "collapsed": true
   },
   "outputs": [],
   "source": [
    "BOYAN_CHAIN = ['P            G']\n",
    "\n",
    "def make_BoyanChain(art):\n",
    "    \"\"\"Builds and returns game.\"\"\"\n",
    "    return ascii_art.ascii_art_to_game(art, what_lies_beneath=' ', sprites={'P': PlayerSprite_BoyanChain})\n",
    "\n",
    "class PlayerSprite_BoyanChain(prefab_sprites.MazeWalker):\n",
    "\n",
    "    def __init__(self, corner, position, character):\n",
    "        \"\"\"Inform superclass that the '#' delimits the walls.\"\"\"\n",
    "        super(PlayerSprite_BoyanChain, self).__init__(corner, position, character, impassable='#')\n",
    "    \n",
    "    def update(self, actions, board, layers, backdrop, things, the_plot):\n",
    "        del backdrop, things   # Unused in this application.\n",
    "        _, position = self.position\n",
    "        \n",
    "        if actions == 0: # Just to avoid making a move during its_showtime() call\n",
    "            \n",
    "            # From the last state before the Goal\n",
    "            if layers[\"G\"][0, position + 1]:\n",
    "                self._east(board, the_plot)   # single jump east\n",
    "                the_plot.add_reward(-2.0)\n",
    "\n",
    "            # From any other state \n",
    "            else:\n",
    "                # Each one of the 2 possible transitions have a probability of 0.5\n",
    "                if np.random.rand() > 0.5:    # single jump east\n",
    "                    self._east(board, the_plot)\n",
    "                else:                         # double jump east\n",
    "                    self._east(board, the_plot)\n",
    "                    self._east(board, the_plot)\n",
    "\n",
    "                # Any transition from those states give a reward of -3\n",
    "                the_plot.add_reward(-3.0)\n",
    "                 \n",
    "        \n",
    "        # Check if our agent is on the goal position\n",
    "        if layers[\"G\"][self.position]:\n",
    "            the_plot.terminate_episode()"
   ]
  },
  {
   "cell_type": "code",
   "execution_count": 12,
   "metadata": {},
   "outputs": [
    {
     "data": {
      "image/png": "[encoded data removed]",
      "text/plain": [
       "<matplotlib.figure.Figure at 0x19ee3f88c88>"
      ]
     },
     "metadata": {},
     "output_type": "display_data"
    },
    {
     "data": {
      "image/png": "[encoded data removed]",
      "text/plain": [
       "<matplotlib.figure.Figure at 0x19ee3f88cf8>"
      ]
     },
     "metadata": {},
     "output_type": "display_data"
    },
    {
     "data": {
      "image/png": "[encoded data removed]",
      "text/plain": [
       "<matplotlib.figure.Figure at 0x19ee45c8358>"
      ]
     },
     "metadata": {},
     "output_type": "display_data"
    },
    {
     "data": {
      "image/png": "[encoded data removed]",
      "text/plain": [
       "<matplotlib.figure.Figure at 0x19ee4312748>"
      ]
     },
     "metadata": {},
     "output_type": "display_data"
    },
    {
     "data": {
      "image/png": "[encoded data removed]",
      "text/plain": [
       "<matplotlib.figure.Figure at 0x19ee43d5cf8>"
      ]
     },
     "metadata": {},
     "output_type": "display_data"
    },
    {
     "data": {
      "image/png": "[encoded data removed]",
      "text/plain": [
       "<matplotlib.figure.Figure at 0x19ee454e4a8>"
      ]
     },
     "metadata": {},
     "output_type": "display_data"
    },
    {
     "data": {
      "image/png": "[encoded data removed]",
      "text/plain": [
       "<matplotlib.figure.Figure at 0x19ee45e32e8>"
      ]
     },
     "metadata": {},
     "output_type": "display_data"
    },
    {
     "data": {
      "image/png": "[encoded data removed]",
      "text/plain": [
       "<matplotlib.figure.Figure at 0x19ee58852b0>"
      ]
     },
     "metadata": {},
     "output_type": "display_data"
    },
    {
     "name": "stdout",
     "output_type": "stream",
     "text": [
      "GAME OVER\n",
      "Undiscounted Return : -21.0\n"
     ]
    }
   ],
   "source": [
    "undiscounted_return = 0\n",
    "\n",
    "game = make_BoyanChain(BOYAN_CHAIN)\n",
    "obs, reward, gamma = game.its_showtime()\n",
    "board_memory = show_board(obs)\n",
    "while not(game.game_over):\n",
    "    obs, reward, gamma = game.play(0)\n",
    "    undiscounted_return += reward\n",
    "    board_memory = show_board(obs, board_memory)\n",
    "print('GAME OVER')\n",
    "print('Undiscounted Return : {}'.format(undiscounted_return))"
   ]
  },
  {
   "cell_type": "markdown",
   "metadata": {},
   "source": [
    "### Environment - Bradtke's 5-states Domain"
   ]
  },
  {
   "cell_type": "markdown",
   "metadata": {},
   "source": [
    "(I think this should be implemented as a Gym environment..?)"
   ]
  },
  {
   "cell_type": "markdown",
   "metadata": {},
   "source": [
    "# Experiments"
   ]
  },
  {
   "cell_type": "markdown",
   "metadata": {
    "collapsed": true
   },
   "source": [
    "# Discussion"
   ]
  },
  {
   "cell_type": "markdown",
   "metadata": {},
   "source": []
  },
  {
   "cell_type": "markdown",
   "metadata": {},
   "source": [
    "# Conclusion"
   ]
  },
  {
   "cell_type": "markdown",
   "metadata": {
    "collapsed": true
   },
   "source": []
  }
 ],
 "metadata": {
  "kernelspec": {
   "display_name": "Python 3",
   "language": "python",
   "name": "python3"
  },
  "language_info": {
   "codemirror_mode": {
    "name": "ipython",
    "version": 3
   },
   "file_extension": ".py",
   "mimetype": "text/x-python",
   "name": "python",
   "nbconvert_exporter": "python",
   "pygments_lexer": "ipython3",
   "version": "3.6.1"
  }
 },
 "nbformat": 4,
 "nbformat_minor": 2
}
