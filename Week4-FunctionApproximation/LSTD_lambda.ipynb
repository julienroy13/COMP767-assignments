{
 "cells": [
  {
   "cell_type": "markdown",
   "metadata": {},
   "source": [
    "# Function Approximation in RL : LSTD(lambda)\n",
    "\n",
    "**Due date : 20/03/2018**\n",
    "\n",
    "**By : Julien Roy and David Kanaa**"
   ]
  },
  {
   "cell_type": "code",
   "execution_count": 77,
   "metadata": {
    "collapsed": true
   },
   "outputs": [],
   "source": [
    "import gym\n",
    "import time\n",
    "\n",
    "import numpy as np\n",
    "import pycolab\n",
    "\n",
    "from pycolab import ascii_art\n",
    "from pycolab.prefab_parts import sprites as prefab_sprites\n",
    "\n",
    "from tqdm import tqdm\n",
    "import matplotlib.pyplot as plt\n",
    "%matplotlib inline"
   ]
  },
  {
   "cell_type": "markdown",
   "metadata": {},
   "source": [
    "# Introduction"
   ]
  },
  {
   "cell_type": "markdown",
   "metadata": {},
   "source": []
  },
  {
   "cell_type": "markdown",
   "metadata": {},
   "source": [
    "# Implementations"
   ]
  },
  {
   "cell_type": "markdown",
   "metadata": {},
   "source": []
  },
  {
   "cell_type": "code",
   "execution_count": 78,
   "metadata": {
    "collapsed": true
   },
   "outputs": [],
   "source": [
    "def show_board(obs, board_footprints=None, leave_footprints=False):\n",
    "    \n",
    "    # Represents the agent as a yellow dot on the board\n",
    "    board = 100 * np.array(obs.layers['P'], dtype=np.float)\n",
    "    \n",
    "    # Indicates in which states the agent went\n",
    "    if leave_footprints:\n",
    "        new_footprints = 20 * np.array(obs.layers['P'], dtype=np.float)\n",
    "    \n",
    "        if board_footprints is not None:\n",
    "            board_footprints += new_footprints\n",
    "            board += board_footprints\n",
    "        else:\n",
    "            board_footprints = new_footprints\n",
    "    \n",
    "    # Adds the Goal as a green dot on the board (if there is one)\n",
    "    if 'G' in obs.layers:\n",
    "        board += 80 * np.array(obs.layers['G'], dtype=np.float)\n",
    "\n",
    "    # Creates the figure\n",
    "    plt.figure(figsize=5 * np.array(board.shape))\n",
    "    plt.imshow(board)\n",
    "    plt.axis('off')\n",
    "    plt.show()\n",
    "    \n",
    "    return board_footprints"
   ]
  },
  {
   "cell_type": "markdown",
   "metadata": {},
   "source": [
    "### Environment - Boyan's Chain"
   ]
  },
  {
   "cell_type": "code",
   "execution_count": 79,
   "metadata": {
    "collapsed": true
   },
   "outputs": [],
   "source": [
    "BOYAN_CHAIN = ['P            G']\n",
    "\n",
    "def make_BoyanChain(art):\n",
    "    \"\"\"Builds and returns game.\"\"\"\n",
    "    return ascii_art.ascii_art_to_game(art, what_lies_beneath=' ', sprites={'P': PlayerSprite_BoyanChain})\n",
    "\n",
    "class PlayerSprite_BoyanChain(prefab_sprites.MazeWalker):\n",
    "\n",
    "    def __init__(self, corner, position, character):\n",
    "        \"\"\"Inform superclass that the '#' delimits the walls.\"\"\"\n",
    "        super(PlayerSprite_BoyanChain, self).__init__(corner, position, character, impassable='#')\n",
    "        \n",
    "        self.state_features = np.array([\n",
    "            [1.00, 0.00, 0.00, 0.00],\n",
    "            [0.75, 0.25, 0.00, 0.00],\n",
    "            [0.50, 0.50, 0.00, 0.00],\n",
    "            [0.25, 0.75, 0.00, 0.00],\n",
    "            [0.00, 1.00, 0.00, 0.00],\n",
    "            [0.00, 0.75, 0.25, 0.00],\n",
    "            [0.00, 0.50, 0.50, 0.00],\n",
    "            [0.00, 0.25, 0.75, 0.00],\n",
    "            [0.00, 0.00, 1.00, 0.00],\n",
    "            [0.00, 0.00, 0.75, 0.25],\n",
    "            [0.00, 0.00, 0.50, 0.50],\n",
    "            [0.00, 0.00, 0.25, 0.75],\n",
    "            [0.00, 0.00, 0.00, 1.00],\n",
    "        ])\n",
    "    \n",
    "    def update(self, actions, board, layers, backdrop, things, the_plot):\n",
    "        del backdrop, things   # Unused in this application.\n",
    "        _, position = self.position\n",
    "        \n",
    "        if actions == 0: # Fake action.. just to avoid making a move during its_showtime() call\n",
    "            \n",
    "            # From the last state before the Goal\n",
    "            if layers[\"G\"][0, position + 1]:\n",
    "                self._east(board, the_plot)   # single jump east\n",
    "                the_plot.add_reward(-2.0)\n",
    "\n",
    "            # From any other state \n",
    "            else:\n",
    "                # Each one of the 2 possible transitions have a probability of 0.5\n",
    "                if np.random.rand() > 0.5:    # single jump east\n",
    "                    self._east(board, the_plot)\n",
    "                else:                         # double jump east\n",
    "                    self._east(board, the_plot)\n",
    "                    self._east(board, the_plot)\n",
    "\n",
    "                # Any transition from those states give a reward of -3\n",
    "                the_plot.add_reward(-3.0)\n",
    "                 \n",
    "        \n",
    "        # Check if our agent is on the goal position\n",
    "        if layers[\"G\"][self.position]:\n",
    "            the_plot.terminate_episode()"
   ]
  },
  {
   "cell_type": "code",
   "execution_count": 80,
   "metadata": {},
   "outputs": [
    {
     "data": {
      "image/png": "[encoded data removed]",
      "text/plain": [
       "<matplotlib.figure.Figure at 0x215be5b24e0>"
      ]
     },
     "metadata": {},
     "output_type": "display_data"
    },
    {
     "data": {
      "image/png": "[encoded data removed]",
      "text/plain": [
       "<matplotlib.figure.Figure at 0x215bfa05c88>"
      ]
     },
     "metadata": {},
     "output_type": "display_data"
    },
    {
     "data": {
      "image/png": "[encoded data removed]",
      "text/plain": [
       "<matplotlib.figure.Figure at 0x215be6a5978>"
      ]
     },
     "metadata": {},
     "output_type": "display_data"
    },
    {
     "data": {
      "image/png": "[encoded data removed]",
      "text/plain": [
       "<matplotlib.figure.Figure at 0x215be8466d8>"
      ]
     },
     "metadata": {},
     "output_type": "display_data"
    },
    {
     "data": {
      "image/png": "[encoded data removed]",
      "text/plain": [
       "<matplotlib.figure.Figure at 0x215be975240>"
      ]
     },
     "metadata": {},
     "output_type": "display_data"
    },
    {
     "data": {
      "image/png": "[encoded data removed]",
      "text/plain": [
       "<matplotlib.figure.Figure at 0x215be5ea048>"
      ]
     },
     "metadata": {},
     "output_type": "display_data"
    },
    {
     "data": {
      "image/png": "[encoded data removed]",
      "text/plain": [
       "<matplotlib.figure.Figure at 0x215be7f0278>"
      ]
     },
     "metadata": {},
     "output_type": "display_data"
    },
    {
     "data": {
      "image/png": "[encoded data removed]",
      "text/plain": [
       "<matplotlib.figure.Figure at 0x215be81beb8>"
      ]
     },
     "metadata": {},
     "output_type": "display_data"
    },
    {
     "data": {
      "image/png": "[encoded data removed]",
      "text/plain": [
       "<matplotlib.figure.Figure at 0x215be624860>"
      ]
     },
     "metadata": {},
     "output_type": "display_data"
    },
    {
     "data": {
      "image/png": "[encoded data removed]",
      "text/plain": [
       "<matplotlib.figure.Figure at 0x215be7912e8>"
      ]
     },
     "metadata": {},
     "output_type": "display_data"
    },
    {
     "data": {
      "image/png": "[encoded data removed]",
      "text/plain": [
       "<matplotlib.figure.Figure at 0x215be5104a8>"
      ]
     },
     "metadata": {},
     "output_type": "display_data"
    },
    {
     "name": "stdout",
     "output_type": "stream",
     "text": [
      "GAME OVER\n",
      "Undiscounted Return : -29.0\n"
     ]
    }
   ],
   "source": [
    "undiscounted_return = 0\n",
    "\n",
    "game = make_BoyanChain(BOYAN_CHAIN)\n",
    "obs, reward, gamma = game.its_showtime()\n",
    "board_footprints = show_board(obs, leave_footprints=True)\n",
    "while not(game.game_over):\n",
    "    obs, reward, gamma = game.play(0)\n",
    "    undiscounted_return += reward\n",
    "    board_footprints = show_board(obs, board_footprints, leave_footprints=True)\n",
    "print('GAME OVER')\n",
    "print('Undiscounted Return : {}'.format(undiscounted_return))"
   ]
  },
  {
   "cell_type": "markdown",
   "metadata": {},
   "source": [
    "### Environment - Bradtke's 5-states Domain"
   ]
  },
  {
   "cell_type": "code",
   "execution_count": 81,
   "metadata": {
    "collapsed": true
   },
   "outputs": [],
   "source": [
    "BRADTKE = ['P    ']\n",
    "\n",
    "def make_Bradtke(art):\n",
    "    \"\"\"Builds and returns game.\"\"\"\n",
    "    return ascii_art.ascii_art_to_game(art, what_lies_beneath=' ', sprites={'P': PlayerSprite_BoyanChain})\n",
    "\n",
    "class PlayerSprite_BoyanChain(prefab_sprites.MazeWalker):\n",
    "\n",
    "    def __init__(self, corner, position, character):\n",
    "        \"\"\"Inform superclass that the '#' delimits the walls.\"\"\"\n",
    "        super(PlayerSprite_BoyanChain, self).__init__(corner, position, character, impassable='#')\n",
    "        \n",
    "        self.transition_matrix = np.array([\n",
    "            [0.42, 0.13, 0.14, 0.03, 0.28],\n",
    "            [0.25, 0.08, 0.16, 0.35, 0.15],\n",
    "            [0.08, 0.20, 0.33, 0.17, 0.22],\n",
    "            [0.36, 0.05, 0.00, 0.51, 0.07],\n",
    "            [0.17, 0.24, 0.19, 0.18, 0.22]\n",
    "        ])\n",
    "        \n",
    "        self.state_features = np.array([\n",
    "            [74.29, 34.61, 73.48, 53.29,  7.79],\n",
    "            [61.60, 48.07, 34.68, 36.19, 82.02],\n",
    "            [97.00,  4.88,  8.51, 87.89,  5.17],\n",
    "            [41.10, 40.13, 64.63, 92.67, 31.09],\n",
    "            [ 7.76, 79.82, 43.78,  8.56, 61.11]\n",
    "        ])\n",
    "        \n",
    "        self.reward_matrix = np.array([\n",
    "            [104.66, 29.69,  82.36,  37.49, 68.82],\n",
    "            [ 75.86, 29.24, 100.37,   0.31, 35.99],\n",
    "            [ 57.68, 65.66,  56.95, 100.44, 47.63],\n",
    "            [ 96.23, 14.01,   0.88,  89.77, 66.77],\n",
    "            [ 70.35, 23.69,  73.41,  70.70, 85.41]\n",
    "        ])\n",
    "    \n",
    "    def update(self, actions, board, layers, backdrop, things, the_plot):\n",
    "        del backdrop, things   # Unused in this application.\n",
    "        _, position = self.position\n",
    "        \n",
    "        if actions == 0: # Fake action.. just to avoid making a move during its_showtime() call\n",
    "\n",
    "            # New position is sampled from a multinouilli distribution parametrized by the environment's transition matrix\n",
    "            new_position = np.argmax(np.random.multinomial(n=1, pvals=self.transition_matrix[position, :]))\n",
    "            \n",
    "            # Receives a reward according to the reward matrix (deterministic reward associated with each transition)\n",
    "            the_plot.add_reward(self.reward_matrix[position, new_position])\n",
    "            \n",
    "            # Move the agent to the new position\n",
    "            self._teleport((0, new_position))"
   ]
  },
  {
   "cell_type": "code",
   "execution_count": 83,
   "metadata": {},
   "outputs": [
    {
     "data": {
      "image/png": "[encoded data removed]",
      "text/plain": [
       "<matplotlib.figure.Figure at 0x215be945550>"
      ]
     },
     "metadata": {},
     "output_type": "display_data"
    },
    {
     "data": {
      "image/png": "[encoded data removed]",
      "text/plain": [
       "<matplotlib.figure.Figure at 0x215be945898>"
      ]
     },
     "metadata": {},
     "output_type": "display_data"
    },
    {
     "data": {
      "image/png": "[encoded data removed]",
      "text/plain": [
       "<matplotlib.figure.Figure at 0x215bfaa82e8>"
      ]
     },
     "metadata": {},
     "output_type": "display_data"
    },
    {
     "data": {
      "image/png": "[encoded data removed]",
      "text/plain": [
       "<matplotlib.figure.Figure at 0x215bfa91dd8>"
      ]
     },
     "metadata": {},
     "output_type": "display_data"
    },
    {
     "data": {
      "image/png": "[encoded data removed]",
      "text/plain": [
       "<matplotlib.figure.Figure at 0x215be8720b8>"
      ]
     },
     "metadata": {},
     "output_type": "display_data"
    },
    {
     "data": {
      "image/png": "[encoded data removed]",
      "text/plain": [
       "<matplotlib.figure.Figure at 0x215bfa673c8>"
      ]
     },
     "metadata": {},
     "output_type": "display_data"
    },
    {
     "data": {
      "image/png": "[encoded data removed]",
      "text/plain": [
       "<matplotlib.figure.Figure at 0x215be8e0d68>"
      ]
     },
     "metadata": {},
     "output_type": "display_data"
    },
    {
     "data": {
      "image/png": "[encoded data removed]",
      "text/plain": [
       "<matplotlib.figure.Figure at 0x215be89d748>"
      ]
     },
     "metadata": {},
     "output_type": "display_data"
    },
    {
     "data": {
      "image/png": "[encoded data removed]",
      "text/plain": [
       "<matplotlib.figure.Figure at 0x215b93bc048>"
      ]
     },
     "metadata": {},
     "output_type": "display_data"
    },
    {
     "data": {
      "image/png": "[encoded data removed]",
      "text/plain": [
       "<matplotlib.figure.Figure at 0x215be8b59b0>"
      ]
     },
     "metadata": {},
     "output_type": "display_data"
    },
    {
     "name": "stdout",
     "output_type": "stream",
     "text": [
      "GAME OVER\n",
      "Undiscounted Return : 572.78\n"
     ]
    }
   ],
   "source": [
    "undiscounted_return = 0\n",
    "\n",
    "game = make_BoyanChain(BOYAN_CHAIN)\n",
    "obs, reward, gamma = game.its_showtime()\n",
    "board_footprints = show_board(obs, leave_footprints=True)\n",
    "\n",
    "while undiscounted_return < 500:\n",
    "    obs, reward, gamma = game.play(0)\n",
    "    undiscounted_return += reward\n",
    "    board_footprints = show_board(obs, board_footprints, leave_footprints=True)\n",
    "print('GAME OVER')\n",
    "print('Undiscounted Return : {:.2f}'.format(undiscounted_return))"
   ]
  },
  {
   "cell_type": "markdown",
   "metadata": {},
   "source": [
    "## LSTD (in progess ...)"
   ]
  },
  {
   "cell_type": "code",
   "execution_count": null,
   "metadata": {},
   "outputs": [],
   "source": [
    "# an implementation of LSTD($\\lambda$)\n",
    "# given: a simulaton model, featurizer, and $\\lambda$.\n",
    "# output: vector $\\beta$ so that $V^{\\pi}(x) = \\beta * \\phi(x)\n",
    "def _lstd(_model, _featurizer, _lambda):\n",
    "    # set A = 0, b = 0, t = 0\n",
    "    A, b, t = 0, 0, 0\n",
    "    \n",
    "    #\n",
    "    for n in range(1000):\n",
    "        # choose start state $x_t$\n",
    "        obs, _, __ = _model.its_showtime()\n",
    "        position = np.array(obs.layers['P'])\n",
    "        state = np.unravel_index(position.argmax(), position.shape)\n",
    "        print(state)\n",
    "        \n",
    "        # set $z_t = \\phi(x_t)$\n",
    "        eligibility = _featurizer(state)\n",
    "        \n",
    "        #\n",
    "        while not _model.game_over:\n",
    "            # simulate one step of the chain, producing a reward R_t and next state x_{t+1}\n",
    "            obs, reward, _ = _model.play(0)\n",
    "            position = np.array(obs.layers['P'])\n",
    "            next_state = np.unravel_index(position.argmax(), position.shape)\n",
    "            print(next_state)\n",
    "            \n",
    "            # set $A = A + z_t \\cdot (\\phi(x_t) - \\phi(x_{t+1}))^T$\n",
    "            A = A + np.dot( eligibility, (_featurizer(state) - _featurizer(next_state)).T )\n",
    "            \n",
    "            # set $b = b + z_t * R_t$\n",
    "            b = b + (eligibility * reward)\n",
    "            \n",
    "            # set $z_{t+1} = lambda * z_t + \\phi(x_{t+1})$\n",
    "            eligibility = (_lambda * eligibility) + _featurizer(next_state)\n",
    "            \n",
    "            # set $t = t+1$\n",
    "            t = t + 1\n",
    "            \n",
    "            #\n",
    "            state = next_state\n",
    "        \n",
    "        # whenever padte coefficients are desired : set $\\beta = A^{-1} \\cdot b$ using SVD\n",
    "        A_ = np.pinv(A)\n",
    "        beta = np.dot(A_, b)\n",
    "    \n",
    "        print(beta.mean())"
   ]
  },
  {
   "cell_type": "code",
   "execution_count": null,
   "metadata": {},
   "outputs": [],
   "source": [
    "game = make_BoyanChain(BOYAN_CHAIN)\n",
    "_lstd(game, lambda x: byn_features[x, :], .4)"
   ]
  },
  {
   "cell_type": "markdown",
   "metadata": {},
   "source": [
    "# Experiments"
   ]
  },
  {
   "cell_type": "markdown",
   "metadata": {
    "collapsed": true
   },
   "source": [
    "# Discussion"
   ]
  },
  {
   "cell_type": "markdown",
   "metadata": {},
   "source": []
  },
  {
   "cell_type": "markdown",
   "metadata": {},
   "source": [
    "# Conclusion"
   ]
  },
  {
   "cell_type": "markdown",
   "metadata": {
    "collapsed": true
   },
   "source": []
  }
 ],
 "metadata": {
  "kernelspec": {
   "display_name": "Python 3",
   "language": "python",
   "name": "python3"
  },
  "language_info": {
   "codemirror_mode": {
    "name": "ipython",
    "version": 3
   },
   "file_extension": ".py",
   "mimetype": "text/x-python",
   "name": "python",
   "nbconvert_exporter": "python",
   "pygments_lexer": "ipython3",
   "version": "3.5.2"
  }
 },
 "nbformat": 4,
 "nbformat_minor": 2
}
