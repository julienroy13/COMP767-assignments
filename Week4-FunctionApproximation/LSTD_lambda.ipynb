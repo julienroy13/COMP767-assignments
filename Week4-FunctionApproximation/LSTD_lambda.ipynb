{
 "cells": [
  {
   "cell_type": "markdown",
   "metadata": {},
   "source": [
    "# Function Approximation in RL : LSTD(lambda)\n",
    "\n",
    "**Due date : 20/03/2018**\n",
    "\n",
    "**By : Julien Roy and David Kanaa**"
   ]
  },
  {
   "cell_type": "code",
   "execution_count": 1,
   "metadata": {
    "collapsed": true
   },
   "outputs": [],
   "source": [
    "import time\n",
    "\n",
    "import numpy as np\n",
    "import pycolab\n",
    "\n",
    "from pycolab import ascii_art\n",
    "from pycolab.prefab_parts import sprites as prefab_sprites\n",
    "\n",
    "from tqdm import tqdm\n",
    "import matplotlib.pyplot as plt\n",
    "%matplotlib inline"
   ]
  },
  {
   "cell_type": "markdown",
   "metadata": {},
   "source": [
    "# Introduction"
   ]
  },
  {
   "cell_type": "markdown",
   "metadata": {},
   "source": [
    "Least Squares Temporal Difference methods[2] (LSTD) allow to make better use of the training data than simpler TD learning methods at the cost of additional computation. However, in many setups, these additional computations are worth it as LSTD will converge faster overall than TD methods. The LSTD($\\lambda$) algorithm from Boyan[1] adds eligibility traces to this process, allowing to choose the amount of bootstrapping to be used.\n",
    "\n",
    "In this work, we implement two versions of this algorithm : an off-line version (complexity $O(n^3)$ in space) and a recursive version inspired by Bradtke and Barto [2] (complexity $O(n^2)$ in space). Those two algorithms are tested in two simple environments : the 13-states Boyan's Chain [1] and the 5-states Bradtke's Domain [2]. Finally, we empirically validate a proof made in Boyan's paper demonstrating that when $\\lambda=1$, LSTD($\\lambda$) is equivalent to supervised learning using a least squared error loss and sampled Monte-Carlo trajectories.\n",
    "\n",
    "[1] : Bradtke, S. J., & Barto, A. G. (1996). Linear least-squares algorithms for temporal difference learning. Machine learning, 22(1-3), 33-57.\n",
    "\n",
    "[2] : Boyan, J. A. (2002). Technical update: Least-squares temporal difference learning. Machine Learning, 49(2-3), 233-246."
   ]
  },
  {
   "cell_type": "markdown",
   "metadata": {},
   "source": [
    "# Implementations : Environments"
   ]
  },
  {
   "cell_type": "markdown",
   "metadata": {},
   "source": [
    "### Simple function to display our environments (only used to test our environment implementations)"
   ]
  },
  {
   "cell_type": "code",
   "execution_count": 2,
   "metadata": {
    "collapsed": true
   },
   "outputs": [],
   "source": [
    "def show_board(obs, board_footprints=None, leave_footprints=False):\n",
    "    \n",
    "    # Represents the agent as a yellow dot on the board\n",
    "    board = 100 * np.array(obs.layers['P'], dtype=np.float)\n",
    "    \n",
    "    # Indicates in which states the agent went\n",
    "    if leave_footprints:\n",
    "        new_footprints = 20 * np.array(obs.layers['P'], dtype=np.float)\n",
    "    \n",
    "        if board_footprints is not None:\n",
    "            board_footprints += new_footprints\n",
    "            board += board_footprints\n",
    "        else:\n",
    "            board_footprints = new_footprints\n",
    "    \n",
    "    # Adds the Goal as a green dot on the board (if there is one)\n",
    "    if 'G' in obs.layers:\n",
    "        board += 80 * np.array(obs.layers['G'], dtype=np.float)\n",
    "\n",
    "    # Creates the figure\n",
    "    plt.figure(figsize=5 * np.array(board.shape))\n",
    "    plt.imshow(board)\n",
    "    plt.axis('off')\n",
    "    plt.show()\n",
    "    \n",
    "    return board_footprints"
   ]
  },
  {
   "cell_type": "markdown",
   "metadata": {},
   "source": [
    "### Environment - Boyan's Chain"
   ]
  },
  {
   "cell_type": "code",
   "execution_count": 3,
   "metadata": {
    "collapsed": true
   },
   "outputs": [],
   "source": [
    "BOYAN_CHAIN = ['P           G']\n",
    "\n",
    "boyan_features = np.array([\n",
    "            [1.00, 0.00, 0.00, 0.00],\n",
    "            [0.75, 0.25, 0.00, 0.00],\n",
    "            [0.50, 0.50, 0.00, 0.00],\n",
    "            [0.25, 0.75, 0.00, 0.00],\n",
    "            [0.00, 1.00, 0.00, 0.00],\n",
    "            [0.00, 0.75, 0.25, 0.00],\n",
    "            [0.00, 0.50, 0.50, 0.00],\n",
    "            [0.00, 0.25, 0.75, 0.00],\n",
    "            [0.00, 0.00, 1.00, 0.00],\n",
    "            [0.00, 0.00, 0.75, 0.25],\n",
    "            [0.00, 0.00, 0.50, 0.50],\n",
    "            [0.00, 0.00, 0.25, 0.75],\n",
    "            [0.00, 0.00, 0.00, 1.00],\n",
    "        ])\n",
    "\n",
    "def make_BoyanChain(art):\n",
    "    \"\"\"Builds and returns game.\"\"\"\n",
    "    return ascii_art.ascii_art_to_game(art, what_lies_beneath=' ', sprites={'P': PlayerSprite_BoyanChain})\n",
    "\n",
    "class PlayerSprite_BoyanChain(prefab_sprites.MazeWalker):\n",
    "\n",
    "    def __init__(self, corner, position, character):\n",
    "        \"\"\"Inform superclass that the '#' delimits the walls.\"\"\"\n",
    "        super(PlayerSprite_BoyanChain, self).__init__(corner, position, character, impassable='#')\n",
    "    \n",
    "    def update(self, actions, board, layers, backdrop, things, the_plot):\n",
    "        del backdrop, things   # Unused in this application.\n",
    "        _, position = self.position\n",
    "        \n",
    "        if actions == 0: # Fake action.. just to avoid making a move during its_showtime() call\n",
    "            \n",
    "            # From the last state before the Goal\n",
    "            if layers[\"G\"][0, position + 1]:\n",
    "                self._east(board, the_plot)   # single jump east\n",
    "                the_plot.add_reward(-2.0)\n",
    "\n",
    "            # From any other state \n",
    "            else:\n",
    "                # Each one of the 2 possible transitions have a probability of 0.5\n",
    "                if np.random.rand() > 0.5:    # single jump east\n",
    "                    self._east(board, the_plot)\n",
    "                else:                         # double jump east\n",
    "                    self._east(board, the_plot)\n",
    "                    self._east(board, the_plot)\n",
    "\n",
    "                # Any transition from those states give a reward of -3\n",
    "                the_plot.add_reward(-3.0)\n",
    "                 \n",
    "        # Check if our agent is on the goal position\n",
    "        if layers[\"G\"][self.position]:\n",
    "            the_plot.terminate_episode()"
   ]
  },
  {
   "cell_type": "markdown",
   "metadata": {},
   "source": [
    "###### Little test (demo) for Boyan's Chain"
   ]
  },
  {
   "cell_type": "code",
   "execution_count": 4,
   "metadata": {},
   "outputs": [
    {
     "data": {
      "image/png": "[encoded data removed]",
      "text/plain": [
       "<matplotlib.figure.Figure at 0x1d6e9297978>"
      ]
     },
     "metadata": {},
     "output_type": "display_data"
    },
    {
     "data": {
      "image/png": "[encoded data removed]",
      "text/plain": [
       "<matplotlib.figure.Figure at 0x1d6e9de0da0>"
      ]
     },
     "metadata": {},
     "output_type": "display_data"
    },
    {
     "data": {
      "image/png": "[encoded data removed]",
      "text/plain": [
       "<matplotlib.figure.Figure at 0x1d6ea942a90>"
      ]
     },
     "metadata": {},
     "output_type": "display_data"
    },
    {
     "data": {
      "image/png": "[encoded data removed]",
      "text/plain": [
       "<matplotlib.figure.Figure at 0x1d6eb0460b8>"
      ]
     },
     "metadata": {},
     "output_type": "display_data"
    },
    {
     "data": {
      "image/png": "[encoded data removed]",
      "text/plain": [
       "<matplotlib.figure.Figure at 0x1d6eb736780>"
      ]
     },
     "metadata": {},
     "output_type": "display_data"
    },
    {
     "data": {
      "image/png": "[encoded data removed]",
      "text/plain": [
       "<matplotlib.figure.Figure at 0x1d6ec4f1e80>"
      ]
     },
     "metadata": {},
     "output_type": "display_data"
    },
    {
     "data": {
      "image/png": "[encoded data removed]",
      "text/plain": [
       "<matplotlib.figure.Figure at 0x1d6e9fc1e48>"
      ]
     },
     "metadata": {},
     "output_type": "display_data"
    },
    {
     "data": {
      "image/png": "[encoded data removed]",
      "text/plain": [
       "<matplotlib.figure.Figure at 0x1d6ea987b70>"
      ]
     },
     "metadata": {},
     "output_type": "display_data"
    },
    {
     "data": {
      "image/png": "[encoded data removed]",
      "text/plain": [
       "<matplotlib.figure.Figure at 0x1d6eb0798d0>"
      ]
     },
     "metadata": {},
     "output_type": "display_data"
    },
    {
     "name": "stdout",
     "output_type": "stream",
     "text": [
      "GAME OVER\n",
      "Undiscounted Return : -24.0\n"
     ]
    }
   ],
   "source": [
    "undiscounted_return = 0\n",
    "\n",
    "game = make_BoyanChain(BOYAN_CHAIN)\n",
    "obs, reward, gamma = game.its_showtime()\n",
    "board_footprints = show_board(obs, leave_footprints=True)\n",
    "while not(game.game_over):\n",
    "    obs, reward, gamma = game.play(0)\n",
    "    undiscounted_return += reward\n",
    "    board_footprints = show_board(obs, board_footprints, leave_footprints=True)\n",
    "print('GAME OVER')\n",
    "print('Undiscounted Return : {}'.format(undiscounted_return))"
   ]
  },
  {
   "cell_type": "markdown",
   "metadata": {},
   "source": [
    "### Environment - Bradtke's 5-states Domain"
   ]
  },
  {
   "cell_type": "code",
   "execution_count": 5,
   "metadata": {
    "collapsed": true
   },
   "outputs": [],
   "source": [
    "BRADTKE_DOMAIN = ['P    ']\n",
    "\n",
    "bradtke_features = np.array([\n",
    "    [74.29, 34.61, 73.48, 53.29,  7.79],\n",
    "    [61.60, 48.07, 34.68, 36.19, 82.02],\n",
    "    [97.00,  4.88,  8.51, 87.89,  5.17],\n",
    "    [41.10, 40.13, 64.63, 92.67, 31.09],\n",
    "    [ 7.76, 79.82, 43.78,  8.56, 61.11]\n",
    "])\n",
    "\n",
    "def make_BradtkeDomain(art):\n",
    "    \"\"\"Builds and returns game.\"\"\"\n",
    "    return ascii_art.ascii_art_to_game(art, what_lies_beneath=' ', sprites={'P': PlayerSprite_BradtkeDomain})\n",
    "\n",
    "class PlayerSprite_BradtkeDomain(prefab_sprites.MazeWalker):\n",
    "\n",
    "    def __init__(self, corner, position, character):\n",
    "        \"\"\"Inform superclass that the '#' delimits the walls.\"\"\"\n",
    "        super(PlayerSprite_BradtkeDomain, self).__init__(corner, position, character, impassable='#')\n",
    "        \n",
    "        self.transition_matrix = np.array([\n",
    "            [0.42, 0.13, 0.14, 0.03, 0.28],\n",
    "            [0.25, 0.08, 0.16, 0.35, 0.15],\n",
    "            [0.08, 0.20, 0.33, 0.17, 0.22],\n",
    "            [0.36, 0.05, 0.00, 0.51, 0.07],\n",
    "            [0.17, 0.24, 0.19, 0.18, 0.22]\n",
    "        ])\n",
    "        \n",
    "        self.reward_matrix = np.array([\n",
    "            [104.66, 29.69,  82.36,  37.49, 68.82],\n",
    "            [ 75.86, 29.24, 100.37,   0.31, 35.99],\n",
    "            [ 57.68, 65.66,  56.95, 100.44, 47.63],\n",
    "            [ 96.23, 14.01,   0.88,  89.77, 66.77],\n",
    "            [ 70.35, 23.69,  73.41,  70.70, 85.41]\n",
    "        ])\n",
    "    \n",
    "    def update(self, actions, board, layers, backdrop, things, the_plot):\n",
    "        del backdrop, things   # Unused in this application.\n",
    "        _, position = self.position\n",
    "        \n",
    "        if actions == 0: # Fake action.. just to avoid making a move during its_showtime() call\n",
    "\n",
    "            # New position is sampled from a multinouilli distribution parametrized by the environment's transition matrix\n",
    "            new_position = np.argmax(np.random.multinomial(n=1, pvals=self.transition_matrix[position, :]))\n",
    "            \n",
    "            # Receives a reward according to the reward matrix (deterministic reward associated with each transition)\n",
    "            the_plot.add_reward(self.reward_matrix[position, new_position])\n",
    "            \n",
    "            # Move the agent to the new position\n",
    "            self._teleport((0, new_position))"
   ]
  },
  {
   "cell_type": "markdown",
   "metadata": {},
   "source": [
    "###### Little test (demo) for Bradtke's Domain"
   ]
  },
  {
   "cell_type": "code",
   "execution_count": 6,
   "metadata": {},
   "outputs": [
    {
     "data": {
      "image/png": "[encoded data removed]",
      "text/plain": [
       "<matplotlib.figure.Figure at 0x1d6eda1c978>"
      ]
     },
     "metadata": {},
     "output_type": "display_data"
    },
    {
     "data": {
      "image/png": "[encoded data removed]",
      "text/plain": [
       "<matplotlib.figure.Figure at 0x1d6eda1cac8>"
      ]
     },
     "metadata": {},
     "output_type": "display_data"
    },
    {
     "data": {
      "image/png": "[encoded data removed]",
      "text/plain": [
       "<matplotlib.figure.Figure at 0x1d6ec5507b8>"
      ]
     },
     "metadata": {},
     "output_type": "display_data"
    },
    {
     "data": {
      "image/png": "[encoded data removed]",
      "text/plain": [
       "<matplotlib.figure.Figure at 0x1d6ea21ff98>"
      ]
     },
     "metadata": {},
     "output_type": "display_data"
    },
    {
     "data": {
      "image/png": "[encoded data removed]",
      "text/plain": [
       "<matplotlib.figure.Figure at 0x1d6ea22c748>"
      ]
     },
     "metadata": {},
     "output_type": "display_data"
    },
    {
     "data": {
      "image/png": "[encoded data removed]",
      "text/plain": [
       "<matplotlib.figure.Figure at 0x1d6eda43f98>"
      ]
     },
     "metadata": {},
     "output_type": "display_data"
    },
    {
     "data": {
      "image/png": "[encoded data removed]",
      "text/plain": [
       "<matplotlib.figure.Figure at 0x1d6ecc07e10>"
      ]
     },
     "metadata": {},
     "output_type": "display_data"
    },
    {
     "data": {
      "image/png": "[encoded data removed]",
      "text/plain": [
       "<matplotlib.figure.Figure at 0x1d6ecc3c470>"
      ]
     },
     "metadata": {},
     "output_type": "display_data"
    },
    {
     "data": {
      "image/png": "[encoded data removed]",
      "text/plain": [
       "<matplotlib.figure.Figure at 0x1d6ea972ef0>"
      ]
     },
     "metadata": {},
     "output_type": "display_data"
    },
    {
     "name": "stdout",
     "output_type": "stream",
     "text": [
      "GAME OVER\n",
      "Undiscounted Return : 572.65\n"
     ]
    }
   ],
   "source": [
    "undiscounted_return = 0\n",
    "\n",
    "game = make_BradtkeDomain(BRADTKE_DOMAIN)\n",
    "obs, reward, gamma = game.its_showtime()\n",
    "board_footprints = show_board(obs, leave_footprints=True)\n",
    "\n",
    "while undiscounted_return < 500:\n",
    "    obs, reward, gamma = game.play(0)\n",
    "    undiscounted_return += reward\n",
    "    board_footprints = show_board(obs, board_footprints, leave_footprints=True)\n",
    "print('GAME OVER')\n",
    "print('Undiscounted Return : {:.2f}'.format(undiscounted_return))"
   ]
  },
  {
   "cell_type": "markdown",
   "metadata": {},
   "source": [
    "# Implementations : Algorithms"
   ]
  },
  {
   "cell_type": "markdown",
   "metadata": {},
   "source": [
    "### Off-line LSTD($\\lambda$)"
   ]
  },
  {
   "cell_type": "code",
   "execution_count": 7,
   "metadata": {
    "collapsed": true
   },
   "outputs": [],
   "source": [
    "def LSTD(game_initializer, features, gamma, lamda, n_trajectories):\n",
    "    # Initializes A, B and t\n",
    "    A, b, t = 0, 0, 0\n",
    "    \n",
    "    n_dims = features.shape[1]\n",
    "    betas = np.zeros(shape=(n_trajectories, n_dims))\n",
    "    \n",
    "    for n in range(n_trajectories):\n",
    "        \n",
    "        # Reinitializes the environment\n",
    "        game = game_initializer()\n",
    "        \n",
    "        # Chooses a start state x_t\n",
    "        obs, _, _ = game.its_showtime()\n",
    "        agent_mask = np.array(obs.layers['P'])\n",
    "        state = np.unravel_index(agent_mask.argmax(), agent_mask.shape)\n",
    "        \n",
    "        # Initializes the eligibility trace vector\n",
    "        eligibility = features[state[1]]\n",
    "        \n",
    "        while not game.game_over and t < 1000:\n",
    "            # Simulate one step of the chain, producing a reward R_t and next state x_{t+1}\n",
    "            obs, reward, _ = game.play(0)\n",
    "            agent_mask = np.array(obs.layers['P'])\n",
    "            next_state = np.unravel_index(agent_mask.argmax(), agent_mask.shape)\n",
    "            \n",
    "            # Difference between features\n",
    "            delta = features[state[1]] - (gamma * features[next_state[1]])\n",
    "            \n",
    "            # Updates A and b\n",
    "            A = A + np.outer( eligibility, delta )\n",
    "            b = b + (eligibility * reward)\n",
    "            \n",
    "            # Updates eligibility trace vector\n",
    "            eligibility = (lamda * eligibility) + features[next_state[1]]\n",
    "            \n",
    "            t = t + 1\n",
    "            state = next_state\n",
    "        \n",
    "        # Updates parameters beta by inversing A\n",
    "        A_inverse = np.linalg.pinv(A)\n",
    "        betas[n] = np.squeeze(np.dot(A_inverse, b))\n",
    "    \n",
    "    return betas"
   ]
  },
  {
   "cell_type": "markdown",
   "metadata": {},
   "source": [
    "### Recursive LSTD($\\lambda$)"
   ]
  },
  {
   "cell_type": "code",
   "execution_count": 8,
   "metadata": {
    "collapsed": true
   },
   "outputs": [],
   "source": [
    "def _r_lstd(_func, _featurizer, _gamma, _lambda, n_trajectories):\n",
    "    \n",
    "    n_dims = _featurizer((0)).shape[0]\n",
    "    \n",
    "    theta, C, t = np.zeros([n_dims,1]), 1000*np.ones([n_dims, n_dims]), 0\n",
    "    \n",
    "    beta = np.zeros(shape=(n_trajectories, n_dims))\n",
    "    \n",
    "    for n in range(n_trajectories):\n",
    "        _model = _func()\n",
    "        \n",
    "        # choose start state $x_t$\n",
    "        obs, _, __ = _model.its_showtime()\n",
    "        position = np.array(obs.layers['P'])\n",
    "        state = np.unravel_index(position.argmax(), position.shape)\n",
    "        \n",
    "        # set $z_t = \\phi(x_t)$\n",
    "        eligibility = _featurizer(state[1])\n",
    "        \n",
    "        while not _model.game_over and t < 1000:\n",
    "            # simulate one step of the chain, producing a reward R_t and next state x_{t+1}\n",
    "            obs, reward, _ = _model.play(0)\n",
    "            position = np.array(obs.layers['P'])\n",
    "            next_state = np.unravel_index(position.argmax(), position.shape)\n",
    "            \n",
    "            #\n",
    "            delta = _featurizer(state[1]) - (_gamma * _featurizer(next_state[1]))\n",
    "            \n",
    "            #\n",
    "            L = np.dot( C, eligibility )\n",
    "            K = 1. / ( 1 + np.dot(delta.T, L) )\n",
    "            \n",
    "            #\n",
    "            e = reward - np.dot( delta.T, theta )\n",
    "            theta = theta +  ( K * np.dot( C, np.dot(eligibility, e) ) )\n",
    "            \n",
    "            #\n",
    "            C = C - (K * np.dot( C, np.dot( eligibility, np.dot(delta.T, C) ) ) )\n",
    "            \n",
    "            # set $z_{t+1} = lambda * z_t + \\phi(x_{t+1})$\n",
    "            eligibility = (_lambda * eligibility) + _featurizer(next_state[1])\n",
    "        \n",
    "            # set $t = t+1$\n",
    "            t = t + 1\n",
    "        \n",
    "        beta[n, :] = np.squeeze(theta)\n",
    "        \n",
    "    return beta"
   ]
  },
  {
   "cell_type": "markdown",
   "metadata": {},
   "source": [
    "# Experiments"
   ]
  },
  {
   "cell_type": "markdown",
   "metadata": {},
   "source": [
    "### 1. Comparison between off-line and recursive LSTD($\\lambda$) on Boyan's Chain"
   ]
  },
  {
   "cell_type": "code",
   "execution_count": 19,
   "metadata": {},
   "outputs": [
    {
     "name": "stderr",
     "output_type": "stream",
     "text": [
      "5it [00:15,  3.15s/it]\n"
     ]
    },
    {
     "data": {
      "image/png": "[encoded data removed]",
      "text/plain": [
       "<matplotlib.figure.Figure at 0x1d6ea88bef0>"
      ]
     },
     "metadata": {},
     "output_type": "display_data"
    }
   ],
   "source": [
    "n_trials = 10\n",
    "n_trajectories = 1000\n",
    "lambdas = [1., 0.75, 0.50, 0.25, 0.]\n",
    "markers = [\"|\", \"^\", \"x\", \"v\", \"o\"]\n",
    "\n",
    "beta_star = np.array([-24., -16., -8., 0.])\n",
    "plt.figure(figsize=(16, 8))\n",
    "\n",
    "# Run experiments for different lambda values for the off-line algorithm\n",
    "for lamda, marker in tqdm(zip(lambdas, markers)):\n",
    "    \n",
    "    RMSE_offline = np.zeros(shape=(n_trials, n_trajectories))\n",
    "    for trial in range(n_trials):\n",
    "        \n",
    "        # Run one experiment for n_trajectories\n",
    "        betas_offline = LSTD(lambda : make_BoyanChain(BOYAN_CHAIN), boyan_features, 1., lamda, n_trajectories)\n",
    "        \n",
    "        # Computes RMS error of predicted values over all states compared to optimal values (computed with parameters beta_star)\n",
    "        predicted_Vs = np.dot(betas_offline, boyan_features.T)\n",
    "        optimal_V = np.dot(beta_star, boyan_features.T)\n",
    "        RMSE_offline[trial] = np.sqrt(np.mean((predicted_Vs - optimal_V)**2, axis=1))\n",
    "    \n",
    "    # Take average of RMSE over the 10 trials\n",
    "    avg_RMSE_offline = np.mean(RMSE_offline, axis=0)\n",
    "    avg_RMSE_offline = (avg_RMSE_offline) / (np.max(avg_RMSE_offline) - np.min(avg_RMSE_offline))\n",
    "        \n",
    "    # plot results\n",
    "    plt.semilogx(avg_RMSE_offline, label=\"Off-line LSTD({})\".format(lamda), color='blue', marker=marker)\n",
    "\n",
    "# Finalize figure\n",
    "plt.title('Performance of off-line and recursive LSTD($\\lambda$)', fontsize=20, fontweight='bold')\n",
    "plt.xlabel('Number of trajectories', fontsize=16, fontweight='bold')\n",
    "plt.ylabel('RMSE averaged over {0} trials'.format(n_trials), fontsize=16, fontweight='bold')\n",
    "plt.legend(loc=\"best\")\n",
    "plt.grid(True, color=\"lightgrey\")\n",
    "plt.ylim(bottom=0)\n",
    "\n",
    "plt.show()"
   ]
  },
  {
   "cell_type": "code",
   "execution_count": 20,
   "metadata": {},
   "outputs": [
    {
     "name": "stderr",
     "output_type": "stream",
     "text": [
      "5it [00:12,  2.58s/it]\n"
     ]
    },
    {
     "data": {
      "image/png": "[encoded data removed]",
      "text/plain": [
       "<matplotlib.figure.Figure at 0x1d6ebe42ef0>"
      ]
     },
     "metadata": {},
     "output_type": "display_data"
    }
   ],
   "source": [
    "plt.figure(figsize=(16, 8))\n",
    "# Does exactly the same thing for the recursive algorithm\n",
    "for lamda, marker in tqdm(zip(lambdas, markers)):\n",
    "    RMSE_recursive = np.zeros(shape=(n_trials, n_trajectories))\n",
    "    for trial in range(n_trials):\n",
    "        betas_recursive = _r_lstd(lambda : make_BoyanChain(BOYAN_CHAIN), lambda x: boyan_features[x].reshape([-1, 1]), 1., lamda, n_trajectories)\n",
    "        predicted_Vs = np.dot(betas_recursive, boyan_features.T)\n",
    "        optimal_V = np.dot(beta_star, boyan_features.T)        \n",
    "        RMSE_recursive[trial] = np.sqrt(np.mean((predicted_Vs - optimal_V)**2, axis=1))\n",
    "    avg_RMSE_recursive = np.mean(RMSE_recursive, axis=0)\n",
    "    avg_RMSE_recursive = (avg_RMSE_recursive) / (np.max(avg_RMSE_recursive) - np.min(avg_RMSE_recursive))\n",
    "    plt.semilogx(avg_RMSE_recursive, label=\"Recursive LSTD({})\".format(lamda), color='orange', marker=marker)\n",
    "        \n",
    "# Finalize figure\n",
    "plt.title('Performance of off-line and recursive LSTD($\\lambda$)', fontsize=20, fontweight='bold')\n",
    "plt.xlabel('Number of trajectories', fontsize=16, fontweight='bold')\n",
    "plt.ylabel('RMSE averaged over {0} trials'.format(n_trials), fontsize=16, fontweight='bold')\n",
    "plt.legend(loc=\"best\")\n",
    "plt.grid(True, color=\"lightgrey\")\n",
    "plt.ylim(bottom=0)\n",
    "\n",
    "plt.show()"
   ]
  },
  {
   "cell_type": "markdown",
   "metadata": {
    "collapsed": true
   },
   "source": [
    "### 2. Comparison between off-line and recursive LSTD($\\lambda$) on Bradtke's 5-states Domain"
   ]
  },
  {
   "cell_type": "code",
   "execution_count": null,
   "metadata": {
    "collapsed": true
   },
   "outputs": [],
   "source": []
  },
  {
   "cell_type": "code",
   "execution_count": null,
   "metadata": {
    "collapsed": true
   },
   "outputs": [],
   "source": []
  },
  {
   "cell_type": "markdown",
   "metadata": {},
   "source": [
    "### 3. Equivalence of LSTD(1) and linear regression\n",
    "\n",
    "In his paper, Boyan demonstrates that in the case where $\\lambda=1$, the LSTD($\\lambda$) algorithm produces an approximation of the value function equivalent to the one we would obtain by off-line least-square linear regression. The linear regression method here is a simple supervised approach that learns to approximate the expected return for each state from Monte-Carlo returns of sampled trajectories.\n",
    "\n",
    "In this experiment we empirically verify this claim by numerically comparing the value function produced by those two methods."
   ]
  },
  {
   "cell_type": "code",
   "execution_count": 35,
   "metadata": {
    "collapsed": true
   },
   "outputs": [],
   "source": [
    "def build_dataset():\n",
    "    \"\"\"\n",
    "    Samples a single trajectory and returns a training set (states, returns) that contain (x,y) values for each timestep\n",
    "    \"\"\"\n",
    "    game = make_BoyanChain(BOYAN_CHAIN)\n",
    "    obs, reward, gamma = game.its_showtime()\n",
    "\n",
    "    states = []\n",
    "    rewards = []\n",
    "    while not(game.game_over):    \n",
    "\n",
    "        # Stores current state (because it's not terminal)\n",
    "        agent_mask = np.array(obs.layers['P'])\n",
    "        position = np.unravel_index(agent_mask.argmax(), agent_mask.shape)\n",
    "        state = boyan_features[position[1]]\n",
    "        states.append(state)\n",
    "\n",
    "        # Do one transition and stores the reward\n",
    "        obs, reward, gamma = game.play(0)\n",
    "        rewards.append(reward)\n",
    "\n",
    "    L = len(rewards)\n",
    "        \n",
    "    rewards = np.array(rewards)\n",
    "    returns = np.zeros_like(rewards)\n",
    "    states = np.array(states)\n",
    "\n",
    "    # Computes return for every timestep\n",
    "    for t in range(L):\n",
    "        returns[t] = np.sum(rewards[t:])\n",
    "    print(type(states))\n",
    "    \n",
    "    return states, returns"
   ]
  },
  {
   "cell_type": "code",
   "execution_count": 37,
   "metadata": {},
   "outputs": [
    {
     "name": "stdout",
     "output_type": "stream",
     "text": [
      "<class 'numpy.ndarray'>\n",
      "[[ 0.85185185 -0.26984127  0.13227513 -0.07936508]\n",
      " [-0.26984127  0.80952381 -0.3968254   0.23809524]\n",
      " [ 0.13227513 -0.3968254   0.97883598 -0.58730159]\n",
      " [-0.07936508  0.23809524 -0.58730159  1.95238095]]\n",
      "[-23.06349206 -15.95238095  -5.98412698  -0.80952381]\n"
     ]
    }
   ],
   "source": [
    "np.random.seed(1234)\n",
    "x, y = build_dataset()\n",
    "L = x.shape[0] # The lenghth of the trajectory\n",
    "\n",
    "A_LR = 0\n",
    "b_LR = 0\n",
    "for t in range(L):\n",
    "    A_LR += np.outer(x[t,:], x[t,:])\n",
    "    b_LR += x[t,:] * y[t]\n",
    "    \n",
    "A_inv = np.linalg.pinv(A_LR)\n",
    "beta = np.dot(A_inv, b_LR)\n",
    "print(beta)"
   ]
  },
  {
   "cell_type": "code",
   "execution_count": 32,
   "metadata": {},
   "outputs": [
    {
     "name": "stdout",
     "output_type": "stream",
     "text": [
      "[-11.82207968  -4.46606844   4.97681031  11.31133781]\n"
     ]
    }
   ],
   "source": [
    "np.random.seed(1234)\n",
    "betas_offline = LSTD(lambda : make_BoyanChain(BOYAN_CHAIN), boyan_features, 1., 1., 1)\n",
    "print(betas_offline[0])"
   ]
  },
  {
   "cell_type": "markdown",
   "metadata": {
    "collapsed": true
   },
   "source": [
    "# Discussion"
   ]
  },
  {
   "cell_type": "markdown",
   "metadata": {},
   "source": []
  },
  {
   "cell_type": "markdown",
   "metadata": {},
   "source": [
    "# Conclusion"
   ]
  },
  {
   "cell_type": "markdown",
   "metadata": {
    "collapsed": true
   },
   "source": []
  }
 ],
 "metadata": {
  "kernelspec": {
   "display_name": "Python 3",
   "language": "python",
   "name": "python3"
  },
  "language_info": {
   "codemirror_mode": {
    "name": "ipython",
    "version": 3
   },
   "file_extension": ".py",
   "mimetype": "text/x-python",
   "name": "python",
   "nbconvert_exporter": "python",
   "pygments_lexer": "ipython3",
   "version": "3.6.1"
  }
 },
 "nbformat": 4,
 "nbformat_minor": 2
}
